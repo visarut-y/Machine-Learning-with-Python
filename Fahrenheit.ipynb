{
  "nbformat": 4,
  "nbformat_minor": 0,
  "metadata": {
    "colab": {
      "name": "Untitled221.ipynb",
      "private_outputs": true,
      "provenance": [],
      "authorship_tag": "ABX9TyNd1DX6Mn8NHy7x6Rc8p6Lc",
      "include_colab_link": true
    },
    "kernelspec": {
      "name": "python3",
      "display_name": "Python 3"
    },
    "accelerator": "GPU"
  },
  "cells": [
    {
      "cell_type": "markdown",
      "metadata": {
        "id": "view-in-github",
        "colab_type": "text"
      },
      "source": [
        "<a href=\"https://colab.research.google.com/github/visarut-y/Machine-Learning-with-Python/blob/master/Fahrenheit.ipynb\" target=\"_parent\"><img src=\"https://colab.research.google.com/assets/colab-badge.svg\" alt=\"Open In Colab\"/></a>"
      ]
    },
    {
      "cell_type": "code",
      "metadata": {
        "id": "2Zw-8M1ZhgWG"
      },
      "source": [
        "!pip install tensorflow==2.4"
      ],
      "execution_count": null,
      "outputs": []
    },
    {
      "cell_type": "code",
      "metadata": {
        "id": "fQacU3hUg_Zf"
      },
      "source": [
        "import tensorflow as tf\r\n",
        "import seaborn as sns \r\n",
        "import pandas as pd \r\n",
        "import matplotlib.pyplot as plt\r\n"
      ],
      "execution_count": null,
      "outputs": []
    },
    {
      "cell_type": "code",
      "metadata": {
        "id": "y6hMjBnNiuvh"
      },
      "source": [
        "from google.colab import drive\r\n",
        "drive.mount('/content/drive')"
      ],
      "execution_count": null,
      "outputs": []
    },
    {
      "cell_type": "code",
      "metadata": {
        "id": "yKI5TipBjW9o"
      },
      "source": [
        "temp_df = pd.read_csv('/content/original.csv')"
      ],
      "execution_count": null,
      "outputs": []
    },
    {
      "cell_type": "code",
      "metadata": {
        "id": "PeywqruYj-Wr"
      },
      "source": [
        "temp_df.head(5)"
      ],
      "execution_count": null,
      "outputs": []
    },
    {
      "cell_type": "code",
      "metadata": {
        "id": "SHpN2bsllhoY"
      },
      "source": [
        "temp_df.tail(10)"
      ],
      "execution_count": null,
      "outputs": []
    },
    {
      "cell_type": "code",
      "metadata": {
        "id": "k_Y_R0Dfly8A"
      },
      "source": [
        "temp_df.describe()"
      ],
      "execution_count": null,
      "outputs": []
    },
    {
      "cell_type": "code",
      "metadata": {
        "id": "kNKlW2Rim6gG"
      },
      "source": [
        "temp_df.info()"
      ],
      "execution_count": null,
      "outputs": []
    },
    {
      "cell_type": "code",
      "metadata": {
        "id": "NEAvMzu2nA-U"
      },
      "source": [
        "sns.scatterplot(temp_df['Celsius'], temp_df['Fahrenheit'])"
      ],
      "execution_count": null,
      "outputs": []
    },
    {
      "cell_type": "code",
      "metadata": {
        "id": "kcOUQrfJnaSh"
      },
      "source": [
        "X_train = temp_df['Celsius']\r\n",
        "y_train = temp_df['Fahrenheit']"
      ],
      "execution_count": null,
      "outputs": []
    },
    {
      "cell_type": "code",
      "metadata": {
        "id": "wF7eb5Ycql1u"
      },
      "source": [
        ""
      ],
      "execution_count": null,
      "outputs": []
    },
    {
      "cell_type": "code",
      "metadata": {
        "id": "PZOlxIauqwuo"
      },
      "source": [
        "X_train.shape\r\n"
      ],
      "execution_count": null,
      "outputs": []
    },
    {
      "cell_type": "code",
      "metadata": {
        "id": "_SZ-OVrkq5A9"
      },
      "source": [
        "y_train.shape"
      ],
      "execution_count": null,
      "outputs": []
    },
    {
      "cell_type": "code",
      "metadata": {
        "id": "Eq39RnvLq7z4"
      },
      "source": [
        "model = tf.keras.Sequential()\r\n",
        "\r\n",
        "model.add(tf.keras.layers.Dense(units=1, input_shape=[1]))"
      ],
      "execution_count": null,
      "outputs": []
    },
    {
      "cell_type": "code",
      "metadata": {
        "id": "XfmPY0jjre37"
      },
      "source": [
        "model.summary()"
      ],
      "execution_count": null,
      "outputs": []
    },
    {
      "cell_type": "code",
      "metadata": {
        "id": "qgg5Wy6lsT0E"
      },
      "source": [
        "model.compile(optimizer= tf.keras.optimizers.Adam(1), loss ='mean_squared_error')"
      ],
      "execution_count": null,
      "outputs": []
    },
    {
      "cell_type": "code",
      "metadata": {
        "id": "k5wAdrzxsk1k"
      },
      "source": [
        "epochs_hist = model.fit(X_train, y_train, epochs =80)"
      ],
      "execution_count": null,
      "outputs": []
    },
    {
      "cell_type": "code",
      "metadata": {
        "id": "tCkXFn1Tsyz_"
      },
      "source": [
        "epochs_hist.history.keys()"
      ],
      "execution_count": null,
      "outputs": []
    },
    {
      "cell_type": "code",
      "metadata": {
        "id": "SEg9JNLyvBfU"
      },
      "source": [
        "plt.plot(epochs_hist.history['loss'])\r\n",
        "plt.title('Model Loss Progress During Training')\r\n",
        "plt.xlabel('Epochs')\r\n",
        "plt.ylabel('Training Loss')\r\n",
        "plt.legend(['Training Loss'])"
      ],
      "execution_count": null,
      "outputs": []
    },
    {
      "cell_type": "code",
      "metadata": {
        "id": "WxiQT2vdxIC6"
      },
      "source": [
        "model.get_weights()"
      ],
      "execution_count": null,
      "outputs": []
    },
    {
      "cell_type": "code",
      "metadata": {
        "id": "sengDVvixfR8"
      },
      "source": [
        "Temp_C = 100\r\n",
        "Temp_F = model.predict([Temp_C])\r\n",
        "print('Temperature in DegF=',Temp_F)"
      ],
      "execution_count": null,
      "outputs": []
    },
    {
      "cell_type": "code",
      "metadata": {
        "id": "dKBDnFK2yAM4"
      },
      "source": [
        "Temp_F = 9/5*Temp_C +32\r\n",
        "print('Temperature in DegF=',Temp_F)\r\n"
      ],
      "execution_count": null,
      "outputs": []
    }
  ]
}